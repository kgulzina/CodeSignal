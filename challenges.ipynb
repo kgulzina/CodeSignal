{
 "cells": [
  {
   "cell_type": "markdown",
   "metadata": {},
   "source": [
    "### Is Geometric Progression? - Done"
   ]
  },
  {
   "cell_type": "code",
   "execution_count": null,
   "metadata": {},
   "outputs": [],
   "source": [
    "def isGeometricProgression(sequence):\n",
    "\"\"\" Check if the given array is geometric progression.\n",
    "\n",
    "    Args:\n",
    "        sequence: array (numeric)\n",
    "    \n",
    "    Returns:\n",
    "        Boolean: False if not a geometric progression\n",
    "\"\"\"\n",
    "    geo_progression = False\n",
    "    ratio = sequence[1]/sequence[0]\n",
    "    \n",
    "    if sequence:\n",
    "        for pairs in zip(sequence[1:-1], sequence[2:]):\n",
    "            print(pairs)\n",
    "            if pairs[1]/pairs[0] == ratio:\n",
    "                geo_progression = True\n",
    "            else:\n",
    "                geo_progression = False\n",
    "                break\n",
    "    \n",
    "    return geo_progression"
   ]
  },
  {
   "cell_type": "code",
   "execution_count": null,
   "metadata": {},
   "outputs": [],
   "source": [
    "isGeometricProgression([2, 4, 8, 17, 34])"
   ]
  },
  {
   "cell_type": "markdown",
   "metadata": {},
   "source": [
    "### Parking cost - Done"
   ]
  },
  {
   "cell_type": "code",
   "execution_count": 64,
   "metadata": {},
   "outputs": [],
   "source": [
    "from datetime import datetime\n",
    "import math\n",
    "\n",
    "def parkingCost(timeIn, timeOut):\n",
    "\"\"\" Calculate the parking cost for singe car\n",
    "\n",
    "    Args:\n",
    "        timeIn:  parking time of a car\n",
    "        timeOut: leaving time of a car\n",
    "    \n",
    "    Returns:\n",
    "        Total cost for parking sin $\n",
    "\"\"\"\n",
    "    # convert strings to time\n",
    "    t1 = datetime.strptime(timeIn, '%H:%M')\n",
    "    t2 = datetime.strptime(timeOut, '%H:%M')\n",
    "    \n",
    "    # how much time user spent at parking lot\n",
    "    diff = abs(t1-t2).total_seconds() / 60.0\n",
    "    \n",
    "    # to pay\n",
    "    if diff <= 30:\n",
    "        return 0\n",
    "    elif diff > 120:\n",
    "        return math.ceil((diff - 120)/10)*2 + 9\n",
    "    else:\n",
    "        return math.ceil((diff - 30)/10)"
   ]
  },
  {
   "cell_type": "code",
   "execution_count": 65,
   "metadata": {},
   "outputs": [
    {
     "data": {
      "text/plain": [
       "0"
      ]
     },
     "execution_count": 65,
     "metadata": {},
     "output_type": "execute_result"
    }
   ],
   "source": [
    "parkingCost(\"14:11\", \"14:39\")"
   ]
  },
  {
   "cell_type": "markdown",
   "metadata": {},
   "source": [
    "### Extract each Kth - Done"
   ]
  },
  {
   "cell_type": "code",
   "execution_count": 102,
   "metadata": {},
   "outputs": [],
   "source": [
    "def extractEachKth(inputArray, k):\n",
    "    \"\"\" Given an array, remove each kth element from it\n",
    "\n",
    "    Args:\n",
    "        inputArray: array of integers\n",
    "        k:          kth element to be removed\n",
    "        \n",
    "    Returns:\n",
    "        Updated array\n",
    "    \"\"\"\n",
    "    if inputArray:\n",
    "        del inputArray[k-1::k]\n",
    "        \n",
    "    return inputArray"
   ]
  },
  {
   "cell_type": "code",
   "execution_count": 103,
   "metadata": {},
   "outputs": [
    {
     "data": {
      "text/plain": [
       "[1, 2, 4, 5, 7, 8]"
      ]
     },
     "execution_count": 103,
     "metadata": {},
     "output_type": "execute_result"
    }
   ],
   "source": [
    "extractEachKth([1,2,3,4,5,6,7,8], 3)"
   ]
  },
  {
   "cell_type": "code",
   "execution_count": null,
   "metadata": {},
   "outputs": [],
   "source": []
  },
  {
   "cell_type": "code",
   "execution_count": null,
   "metadata": {},
   "outputs": [],
   "source": []
  },
  {
   "cell_type": "code",
   "execution_count": null,
   "metadata": {},
   "outputs": [],
   "source": []
  },
  {
   "cell_type": "code",
   "execution_count": null,
   "metadata": {},
   "outputs": [],
   "source": []
  },
  {
   "cell_type": "code",
   "execution_count": null,
   "metadata": {},
   "outputs": [],
   "source": []
  },
  {
   "cell_type": "code",
   "execution_count": null,
   "metadata": {},
   "outputs": [],
   "source": []
  },
  {
   "cell_type": "code",
   "execution_count": null,
   "metadata": {},
   "outputs": [],
   "source": []
  }
 ],
 "metadata": {
  "kernelspec": {
   "display_name": "Python 3",
   "language": "python",
   "name": "python3"
  },
  "language_info": {
   "codemirror_mode": {
    "name": "ipython",
    "version": 3
   },
   "file_extension": ".py",
   "mimetype": "text/x-python",
   "name": "python",
   "nbconvert_exporter": "python",
   "pygments_lexer": "ipython3",
   "version": "3.7.0"
  }
 },
 "nbformat": 4,
 "nbformat_minor": 2
}
